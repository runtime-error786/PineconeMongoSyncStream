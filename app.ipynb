{
 "cells": [
  {
   "cell_type": "code",
   "execution_count": 19,
   "metadata": {},
   "outputs": [],
   "source": [
    "import os\n",
    "import pandas as pd\n",
    "from datasets import load_dataset\n",
    "from sentence_transformers import SentenceTransformer\n",
    "from pymongo import MongoClient\n",
    "import pinecone\n",
    "from pinecone import Pinecone as p1, ServerlessSpec\n",
    "from langchain_pinecone import PineconeVectorStore\n",
    "from langchain.embeddings import HuggingFaceEmbeddings\n",
    "from langchain.llms import Ollama"
   ]
  },
  {
   "cell_type": "code",
   "execution_count": 6,
   "metadata": {},
   "outputs": [],
   "source": [
    "import os\n",
    "os.environ['PINECONE_API_KEY'] = '39c3b55b-2ae4-44ee-a9cd-83a99876c828'\n",
    "pc = p1(\n",
    "    api_key=os.environ.get(\"PINECONE_API_KEY\")\n",
    ")"
   ]
  },
  {
   "cell_type": "code",
   "execution_count": 7,
   "metadata": {},
   "outputs": [],
   "source": [
    "INDEX_NAME = \"mongo\"\n",
    "PINECONE_NAMESPACE = \"real\""
   ]
  },
  {
   "cell_type": "code",
   "execution_count": 8,
   "metadata": {},
   "outputs": [],
   "source": [
    "dataset = load_dataset(\"MongoDB/embedded_movies\")\n",
    "filtered_dataset = dataset['train'].filter(lambda x: x['fullplot'] is not None)\n"
   ]
  },
  {
   "cell_type": "code",
   "execution_count": 9,
   "metadata": {},
   "outputs": [
    {
     "name": "stderr",
     "output_type": "stream",
     "text": [
      "c:\\Users\\musta\\AppData\\Local\\Programs\\Python\\Python311\\Lib\\site-packages\\huggingface_hub\\file_download.py:1132: FutureWarning: `resume_download` is deprecated and will be removed in version 1.0.0. Downloads always resume when possible. If you want to force a new download, use `force_download=True`.\n",
      "  warnings.warn(\n"
     ]
    }
   ],
   "source": [
    "model = SentenceTransformer('all-MiniLM-L6-v2')\n"
   ]
  },
  {
   "cell_type": "code",
   "execution_count": 10,
   "metadata": {},
   "outputs": [],
   "source": [
    "def generate_embeddings(text):\n",
    "    return model.encode(text).tolist()"
   ]
  },
  {
   "cell_type": "code",
   "execution_count": 11,
   "metadata": {},
   "outputs": [
    {
     "name": "stderr",
     "output_type": "stream",
     "text": [
      "Map: 100%|██████████| 1452/1452 [01:38<00:00, 14.74 examples/s]\n"
     ]
    }
   ],
   "source": [
    "filtered_dataset = filtered_dataset.map(lambda x: {'plot_embedding': generate_embeddings(x['fullplot'])})\n"
   ]
  },
  {
   "cell_type": "code",
   "execution_count": 12,
   "metadata": {},
   "outputs": [],
   "source": [
    "df = pd.DataFrame(filtered_dataset)"
   ]
  },
  {
   "cell_type": "code",
   "execution_count": 13,
   "metadata": {},
   "outputs": [],
   "source": [
    "client = MongoClient('mongodb://localhost:27017/')\n",
    "db = client['movie_db']\n",
    "collection = db['movies']"
   ]
  },
  {
   "cell_type": "code",
   "execution_count": 16,
   "metadata": {},
   "outputs": [
    {
     "name": "stderr",
     "output_type": "stream",
     "text": [
      "c:\\Users\\musta\\AppData\\Local\\Programs\\Python\\Python311\\Lib\\site-packages\\langchain_core\\_api\\deprecation.py:139: LangChainDeprecationWarning: The class `HuggingFaceEmbeddings` was deprecated in LangChain 0.2.2 and will be removed in 0.3.0. An updated version of the class exists in the langchain-huggingface package and should be used instead. To use it run `pip install -U langchain-huggingface` and import as `from langchain_huggingface import HuggingFaceEmbeddings`.\n",
      "  warn_deprecated(\n",
      "c:\\Users\\musta\\AppData\\Local\\Programs\\Python\\Python311\\Lib\\site-packages\\huggingface_hub\\file_download.py:1132: FutureWarning: `resume_download` is deprecated and will be removed in version 1.0.0. Downloads always resume when possible. If you want to force a new download, use `force_download=True`.\n",
      "  warnings.warn(\n"
     ]
    }
   ],
   "source": [
    "pinecone_index = pc.Index(INDEX_NAME)\n",
    "embeddings = HuggingFaceEmbeddings(model_name=\"sentence-transformers/all-MiniLM-L6-v2\")\n",
    "vectorstore = PineconeVectorStore(index_name=INDEX_NAME, embedding=embeddings, namespace=PINECONE_NAMESPACE)"
   ]
  },
  {
   "cell_type": "code",
   "execution_count": 17,
   "metadata": {},
   "outputs": [],
   "source": [
    "for _, row in df.iterrows():\n",
    "    document = {\n",
    "        \"title\": row['title'],\n",
    "        \"runtime\": row['runtime'],\n",
    "        \"genres\": row['genres'],\n",
    "        \"fullplot\": row['fullplot'],\n",
    "        \"directors\": row['directors'],\n",
    "        \"writers\": row['writers'],\n",
    "        \"countries\": row['countries'],\n",
    "        \"poster\": row['poster'],\n",
    "        \"languages\": row['languages'],\n",
    "        \"cast\": row['cast'],\n",
    "        \"num_mflix_comments\": row['num_mflix_comments'],\n",
    "        \"rated\": row['rated'],\n",
    "        \"imdb\": row['imdb'],\n",
    "        \"awards\": row['awards'],\n",
    "        \"type\": row['type'],\n",
    "        \"metacritic\": row['metacritic'],\n",
    "        \"plot_embedding\": row['plot_embedding']\n",
    "    }\n",
    "    \n",
    "    result = collection.insert_one(document)\n",
    "    mongo_id = result.inserted_id\n",
    "    \n",
    "    pinecone_index.upsert(\n",
    "        vectors=[\n",
    "            {\n",
    "                \"id\": str(mongo_id),  \n",
    "                \"values\": row['plot_embedding'], \n",
    "                \"metadata\": {}  \n",
    "            }\n",
    "        ],\n",
    "        namespace=PINECONE_NAMESPACE\n",
    "    )"
   ]
  },
  {
   "cell_type": "code",
   "execution_count": 30,
   "metadata": {},
   "outputs": [],
   "source": [
    "def retrieve_similar_movies(query_text, top_n=3):\n",
    "    query_embedding = embeddings.embed_query(query_text)\n",
    "    \n",
    "    # Search Pinecone for similar embeddings\n",
    "    search_results = pinecone_index.query(\n",
    "        top_k=top_n,\n",
    "        vector=query_embedding,\n",
    "        namespace=PINECONE_NAMESPACE\n",
    "    )\n",
    "    \n",
    "    # Extract IDs of similar documents\n",
    "    similar_ids = [match['id'] for match in search_results['matches']]\n",
    "    \n",
    "    # Retrieve corresponding documents from MongoDB using IDs\n",
    "    movies = list(collection.find({\"_id\": {\"$in\": [ObjectId(id) for id in similar_ids]}}))\n",
    "    \n",
    "    return movies"
   ]
  },
  {
   "cell_type": "code",
   "execution_count": 33,
   "metadata": {},
   "outputs": [],
   "source": [
    "from pymongo import MongoClient\n",
    "from bson import ObjectId\n",
    "from langchain.prompts import PromptTemplate\n"
   ]
  },
  {
   "cell_type": "code",
   "execution_count": 37,
   "metadata": {},
   "outputs": [],
   "source": [
    "def retrieve_similar_movies(query_text, top_n=3):\n",
    "    query_embedding = embeddings.embed_query(query_text)\n",
    "    \n",
    "    search_results = pinecone_index.query(\n",
    "        top_k=top_n,\n",
    "        vector=query_embedding,\n",
    "        namespace=PINECONE_NAMESPACE\n",
    "    )\n",
    "    \n",
    "    similar_ids = [match['id'] for match in search_results['matches']]\n",
    "    \n",
    "    movies = list(collection.find({\"_id\": {\"$in\": [ObjectId(id) for id in similar_ids]}}))\n",
    "    \n",
    "    return movies"
   ]
  },
  {
   "cell_type": "code",
   "execution_count": 38,
   "metadata": {},
   "outputs": [],
   "source": [
    "prompt_template = PromptTemplate(\n",
    "    input_variables=[\"context\", \"query\"],\n",
    "    template=\"\"\"\n",
    "    You are a movie recommendation assistant. Given the following context and query, provide a detailed response:\n",
    "\n",
    "    Context:\n",
    "    {context}\n",
    "\n",
    "    Query:\n",
    "    {query}\n",
    "\n",
    "    Response:\n",
    "    \"\"\"\n",
    ")\n",
    "\n"
   ]
  },
  {
   "cell_type": "code",
   "execution_count": 39,
   "metadata": {},
   "outputs": [],
   "source": [
    "def generate_response(query_text):\n",
    "    similar_movies = retrieve_similar_movies(query_text)\n",
    "    \n",
    "    llama = Ollama(model=\"llama3\")\n",
    "    \n",
    "    context = \"\\n\".join([f\"Title: {movie.get('title')}\\nPlot: {movie.get('fullplot')}\" for movie in similar_movies])\n",
    "    \n",
    "    prompt = prompt_template.format(context=context, query=query_text)\n",
    "    \n",
    "    response = llama.generate([prompt])\n",
    "    \n",
    "    return response\n",
    "\n"
   ]
  },
  {
   "cell_type": "code",
   "execution_count": 40,
   "metadata": {},
   "outputs": [],
   "source": [
    "query_text = \"A thrilling adventure through space and time.\"\n",
    "response = generate_response(query_text)\n"
   ]
  },
  {
   "cell_type": "code",
   "execution_count": 36,
   "metadata": {},
   "outputs": [
    {
     "name": "stdout",
     "output_type": "stream",
     "text": [
      "What an exciting query! If you're looking for a thrilling adventure that combines elements of space travel, time manipulation, and action-packed excitement, I'd highly recommend the following movies:\n",
      "\n",
      "**1. Interstellar (2014)**: Directed by Christopher Nolan, this visually stunning film explores the possibilities of wormhole travel and the consequences of playing with time. The movie follows Cooper, a former NASA pilot, as he embarks on a mission to find a new home for humanity. With its mind-bending concepts and breathtaking visuals, Interstellar is sure to thrill you.\n",
      "\n",
      "**2. Edge of Tomorrow (2014)**: This sci-fi action film stars Tom Cruise as Major William Cage, a soldier who finds himself reliving the same day over and over again in a battle against an alien invasion. As he tries to prevent the apocalypse, Cage must confront his own mortality and the consequences of time travel.\n",
      "\n",
      "**3. Looper (2012)**: Bruce Willis and Joseph Gordon-Levitt star in this thought-provoking thriller about a hitman who is sent back in time to kill a young version of himself. As the two versions navigate their way through the past, they must confront the consequences of their actions and prevent a catastrophic future.\n",
      "\n",
      "**4. Timecrimes (2007)**: This Spanish thriller tells the story of Héctor, a man who travels back in time by one hour and finds himself stuck in a series of events that are rapidly spiraling out of control. With its complex plot twists and tense atmosphere, Timecrimes is sure to keep you on the edge of your seat.\n",
      "\n",
      "All of these movies offer thrilling adventures through space and time, with plenty of action, suspense, and thought-provoking themes to keep you engaged. So grab some popcorn, settle in, and get ready for a wild ride!\n"
     ]
    }
   ],
   "source": [
    "text_output = response.generations[0][0].text\n",
    "print(text_output)\n"
   ]
  },
  {
   "cell_type": "code",
   "execution_count": null,
   "metadata": {},
   "outputs": [],
   "source": []
  }
 ],
 "metadata": {
  "kernelspec": {
   "display_name": "Python 3",
   "language": "python",
   "name": "python3"
  },
  "language_info": {
   "codemirror_mode": {
    "name": "ipython",
    "version": 3
   },
   "file_extension": ".py",
   "mimetype": "text/x-python",
   "name": "python",
   "nbconvert_exporter": "python",
   "pygments_lexer": "ipython3",
   "version": "3.11.3"
  }
 },
 "nbformat": 4,
 "nbformat_minor": 2
}
