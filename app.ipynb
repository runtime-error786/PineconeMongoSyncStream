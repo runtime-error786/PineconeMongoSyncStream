{
 "cells": [
  {
   "cell_type": "code",
   "execution_count": 19,
   "metadata": {},
   "outputs": [],
   "source": [
    "import os\n",
    "import pandas as pd\n",
    "from datasets import load_dataset\n",
    "from sentence_transformers import SentenceTransformer\n",
    "from pymongo import MongoClient\n",
    "import pinecone\n",
    "from pinecone import Pinecone as p1, ServerlessSpec\n",
    "from langchain_pinecone import PineconeVectorStore\n",
    "from langchain.embeddings import HuggingFaceEmbeddings\n",
    "from langchain.llms import Ollama"
   ]
  },
  {
   "cell_type": "code",
   "execution_count": 6,
   "metadata": {},
   "outputs": [],
   "source": [
    "import os\n",
    "os.environ['PINECONE_API_KEY'] = '39c3b55b-2ae4-44ee-a9cd-83a99876c828'\n",
    "pc = p1(\n",
    "    api_key=os.environ.get(\"PINECONE_API_KEY\")\n",
    ")"
   ]
  },
  {
   "cell_type": "code",
   "execution_count": 7,
   "metadata": {},
   "outputs": [],
   "source": [
    "INDEX_NAME = \"mongo\"\n",
    "PINECONE_NAMESPACE = \"real\""
   ]
  },
  {
   "cell_type": "code",
   "execution_count": 8,
   "metadata": {},
   "outputs": [],
   "source": [
    "dataset = load_dataset(\"MongoDB/embedded_movies\")\n",
    "filtered_dataset = dataset['train'].filter(lambda x: x['fullplot'] is not None)\n"
   ]
  },
  {
   "cell_type": "code",
   "execution_count": 9,
   "metadata": {},
   "outputs": [
    {
     "name": "stderr",
     "output_type": "stream",
     "text": [
      "c:\\Users\\musta\\AppData\\Local\\Programs\\Python\\Python311\\Lib\\site-packages\\huggingface_hub\\file_download.py:1132: FutureWarning: `resume_download` is deprecated and will be removed in version 1.0.0. Downloads always resume when possible. If you want to force a new download, use `force_download=True`.\n",
      "  warnings.warn(\n"
     ]
    }
   ],
   "source": [
    "model = SentenceTransformer('all-MiniLM-L6-v2')\n"
   ]
  },
  {
   "cell_type": "code",
   "execution_count": 10,
   "metadata": {},
   "outputs": [],
   "source": [
    "def generate_embeddings(text):\n",
    "    return model.encode(text).tolist()"
   ]
  },
  {
   "cell_type": "code",
   "execution_count": 11,
   "metadata": {},
   "outputs": [
    {
     "name": "stderr",
     "output_type": "stream",
     "text": [
      "Map: 100%|██████████| 1452/1452 [01:38<00:00, 14.74 examples/s]\n"
     ]
    }
   ],
   "source": [
    "filtered_dataset = filtered_dataset.map(lambda x: {'plot_embedding': generate_embeddings(x['fullplot'])})\n"
   ]
  },
  {
   "cell_type": "code",
   "execution_count": 12,
   "metadata": {},
   "outputs": [],
   "source": [
    "df = pd.DataFrame(filtered_dataset)"
   ]
  },
  {
   "cell_type": "code",
   "execution_count": 13,
   "metadata": {},
   "outputs": [],
   "source": [
    "client = MongoClient('mongodb://localhost:27017/')\n",
    "db = client['movie_db']\n",
    "collection = db['movies']"
   ]
  },
  {
   "cell_type": "code",
   "execution_count": 16,
   "metadata": {},
   "outputs": [
    {
     "name": "stderr",
     "output_type": "stream",
     "text": [
      "c:\\Users\\musta\\AppData\\Local\\Programs\\Python\\Python311\\Lib\\site-packages\\langchain_core\\_api\\deprecation.py:139: LangChainDeprecationWarning: The class `HuggingFaceEmbeddings` was deprecated in LangChain 0.2.2 and will be removed in 0.3.0. An updated version of the class exists in the langchain-huggingface package and should be used instead. To use it run `pip install -U langchain-huggingface` and import as `from langchain_huggingface import HuggingFaceEmbeddings`.\n",
      "  warn_deprecated(\n",
      "c:\\Users\\musta\\AppData\\Local\\Programs\\Python\\Python311\\Lib\\site-packages\\huggingface_hub\\file_download.py:1132: FutureWarning: `resume_download` is deprecated and will be removed in version 1.0.0. Downloads always resume when possible. If you want to force a new download, use `force_download=True`.\n",
      "  warnings.warn(\n"
     ]
    }
   ],
   "source": [
    "pinecone_index = pc.Index(INDEX_NAME)\n",
    "embeddings = HuggingFaceEmbeddings(model_name=\"sentence-transformers/all-MiniLM-L6-v2\")\n",
    "vectorstore = PineconeVectorStore(index_name=INDEX_NAME, embedding=embeddings, namespace=PINECONE_NAMESPACE)"
   ]
  },
  {
   "cell_type": "code",
   "execution_count": 17,
   "metadata": {},
   "outputs": [],
   "source": [
    "for _, row in df.iterrows():\n",
    "    document = {\n",
    "        \"title\": row['title'],\n",
    "        \"runtime\": row['runtime'],\n",
    "        \"genres\": row['genres'],\n",
    "        \"fullplot\": row['fullplot'],\n",
    "        \"directors\": row['directors'],\n",
    "        \"writers\": row['writers'],\n",
    "        \"countries\": row['countries'],\n",
    "        \"poster\": row['poster'],\n",
    "        \"languages\": row['languages'],\n",
    "        \"cast\": row['cast'],\n",
    "        \"num_mflix_comments\": row['num_mflix_comments'],\n",
    "        \"rated\": row['rated'],\n",
    "        \"imdb\": row['imdb'],\n",
    "        \"awards\": row['awards'],\n",
    "        \"type\": row['type'],\n",
    "        \"metacritic\": row['metacritic'],\n",
    "        \"plot_embedding\": row['plot_embedding']\n",
    "    }\n",
    "    \n",
    "    result = collection.insert_one(document)\n",
    "    mongo_id = result.inserted_id\n",
    "    \n",
    "    pinecone_index.upsert(\n",
    "        vectors=[\n",
    "            {\n",
    "                \"id\": str(mongo_id),  \n",
    "                \"values\": row['plot_embedding'], \n",
    "                \"metadata\": {}  \n",
    "            }\n",
    "        ],\n",
    "        namespace=PINECONE_NAMESPACE\n",
    "    )"
   ]
  },
  {
   "cell_type": "code",
   "execution_count": 30,
   "metadata": {},
   "outputs": [],
   "source": [
    "def retrieve_similar_movies(query_text, top_n=3):\n",
    "    query_embedding = embeddings.embed_query(query_text)\n",
    "    \n",
    "    search_results = pinecone_index.query(\n",
    "        top_k=top_n,\n",
    "        vector=query_embedding,\n",
    "        namespace=PINECONE_NAMESPACE\n",
    "    )\n",
    "    \n",
    "    similar_ids = [match['id'] for match in search_results['matches']]\n",
    "    \n",
    "    movies = list(collection.find({\"_id\": {\"$in\": [ObjectId(id) for id in similar_ids]}}))\n",
    "    \n",
    "    return movies"
   ]
  },
  {
   "cell_type": "code",
   "execution_count": 33,
   "metadata": {},
   "outputs": [],
   "source": [
    "from pymongo import MongoClient\n",
    "from bson import ObjectId\n",
    "from langchain.prompts import PromptTemplate\n"
   ]
  },
  {
   "cell_type": "code",
   "execution_count": 37,
   "metadata": {},
   "outputs": [],
   "source": [
    "def retrieve_similar_movies(query_text, top_n=3):\n",
    "    query_embedding = embeddings.embed_query(query_text)\n",
    "    \n",
    "    search_results = pinecone_index.query(\n",
    "        top_k=top_n,\n",
    "        vector=query_embedding,\n",
    "        namespace=PINECONE_NAMESPACE\n",
    "    )\n",
    "    \n",
    "    similar_ids = [match['id'] for match in search_results['matches']]\n",
    "    \n",
    "    movies = list(collection.find({\"_id\": {\"$in\": [ObjectId(id) for id in similar_ids]}}))\n",
    "    \n",
    "    return movies"
   ]
  },
  {
   "cell_type": "code",
   "execution_count": 45,
   "metadata": {},
   "outputs": [],
   "source": [
    "from langchain import PromptTemplate\n",
    "\n",
    "prompt_template = PromptTemplate(\n",
    "    input_variables=[\"context\", \"query\"],\n",
    "    template=\"\"\"\n",
    "    You are a movie recommendation assistant. Given the context and query below, provide a detailed response by recommending only the movies from the context that match the query. Do not suggest any movies that are not in the context.\n",
    "\n",
    "    Context:\n",
    "    {context}\n",
    "\n",
    "    Query:\n",
    "    {query}\n",
    "\n",
    "    Response:\n",
    "    \"\"\"\n",
    ")\n"
   ]
  },
  {
   "cell_type": "code",
   "execution_count": 46,
   "metadata": {},
   "outputs": [],
   "source": [
    "def generate_response(query_text):\n",
    "    similar_movies = retrieve_similar_movies(query_text)\n",
    "    \n",
    "    llama = Ollama(model=\"llama3\")\n",
    "    \n",
    "    context = \"\\n\".join([f\"Title: {movie.get('title')}\\nPlot: {movie.get('fullplot')}\" for movie in similar_movies])\n",
    "    \n",
    "    prompt = prompt_template.format(context=context, query=query_text)\n",
    "    \n",
    "    response = llama.generate([prompt])\n",
    "    \n",
    "    return response\n",
    "\n"
   ]
  },
  {
   "cell_type": "code",
   "execution_count": 47,
   "metadata": {},
   "outputs": [],
   "source": [
    "query_text = \"A thrilling adventure through space and time.\"\n",
    "response = generate_response(query_text)"
   ]
  },
  {
   "cell_type": "code",
   "execution_count": 48,
   "metadata": {},
   "outputs": [
    {
     "name": "stdout",
     "output_type": "stream",
     "text": [
      "What an exciting query!\n",
      "\n",
      "Based on the context, I highly recommend two movies that match your request:\n",
      "\n",
      "1. **A.P.E.X.**: This movie fits perfectly with your query, as it involves a thrilling adventure through space and time. The plot revolves around a scientist who finds himself in an alternate timeline, where he must navigate a war-torn world filled with killer robots and find a way to prevent the disaster from occurring.\n",
      "2. **Space Raiders**: Another great match! This movie is all about an exciting adventure when a 10-year-old boy is accidentally kidnapped by a spaceship filled with space pirates. It's a futuristic tale of confrontation and exploration that should satisfy your craving for a thrilling ride through space.\n",
      "\n",
      "These two movies are the only ones in the context that fit your query, so I hope you enjoy them!\n"
     ]
    }
   ],
   "source": [
    "text_output = response.generations[0][0].text\n",
    "print(text_output)"
   ]
  },
  {
   "cell_type": "code",
   "execution_count": null,
   "metadata": {},
   "outputs": [],
   "source": []
  }
 ],
 "metadata": {
  "kernelspec": {
   "display_name": "Python 3",
   "language": "python",
   "name": "python3"
  },
  "language_info": {
   "codemirror_mode": {
    "name": "ipython",
    "version": 3
   },
   "file_extension": ".py",
   "mimetype": "text/x-python",
   "name": "python",
   "nbconvert_exporter": "python",
   "pygments_lexer": "ipython3",
   "version": "3.11.3"
  }
 },
 "nbformat": 4,
 "nbformat_minor": 2
}
